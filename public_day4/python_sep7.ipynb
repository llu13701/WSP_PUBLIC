{
 "cells": [
  {
   "cell_type": "markdown",
   "id": "422099d8",
   "metadata": {},
   "source": [
    "# starting from here sep 7"
   ]
  },
  {
   "cell_type": "markdown",
   "id": "fccf078d",
   "metadata": {},
   "source": [
    "**one solution does't work, lets head to the playground https://platform.openai.com/playground to see how it should work  20mins on langhcian issues**"
   ]
  },
  {
   "cell_type": "markdown",
   "id": "9283e81d",
   "metadata": {},
   "source": [
    "**all the script for openai https://docs.google.com/document/d/1DSwrFViMLUos7eSvhUKVPptndd1SShLm03WA80PYzxk/edit?usp=sharing**"
   ]
  },
  {
   "cell_type": "markdown",
   "id": "6a314ff4",
   "metadata": {},
   "source": [
    "**Sequential chain model: https://python.langchain.com/docs/modules/chains/foundational/sequential_chains**"
   ]
  },
  {
   "cell_type": "code",
   "execution_count": null,
   "id": "ef8d1a7e",
   "metadata": {},
   "outputs": [],
   "source": [
    "import pandas as pd\n",
    "import numpy as np"
   ]
  },
  {
   "cell_type": "code",
   "execution_count": null,
   "id": "40b5d0e4",
   "metadata": {},
   "outputs": [],
   "source": [
    "import openai\n",
    "f = open(\"secret_key.env.txt\", \"r\")\n",
    "secret_key=f.read()\n",
    "openai.api_key=secret_key"
   ]
  },
  {
   "cell_type": "code",
   "execution_count": null,
   "id": "98494001",
   "metadata": {},
   "outputs": [],
   "source": [
    "df_master = pd.read_csv(\"df_master_w_significance.csv\")"
   ]
  },
  {
   "cell_type": "code",
   "execution_count": null,
   "id": "fa45bdef",
   "metadata": {},
   "outputs": [],
   "source": [
    "#pip install langchain"
   ]
  },
  {
   "cell_type": "code",
   "execution_count": null,
   "id": "d14330ef",
   "metadata": {},
   "outputs": [],
   "source": [
    "from langchain.chains import LLMChain\n",
    "from langchain.prompts import PromptTemplate\n",
    "from langchain.chat_models import ChatOpenAI\n",
    "from langchain.chains import SimpleSequentialChain\n"
   ]
  },
  {
   "cell_type": "code",
   "execution_count": null,
   "id": "9140e41b",
   "metadata": {},
   "outputs": [],
   "source": [
    "#here is a quick start guild\n",
    "#https://python.langchain.com/docs/get_started/quickstart\n",
    "\n",
    "# this is for the sequential chain\n",
    "#https://python.langchain.com/docs/modules/chains/foundational/sequential_chains"
   ]
  },
  {
   "cell_type": "code",
   "execution_count": null,
   "id": "492e7ace",
   "metadata": {},
   "outputs": [],
   "source": [
    "llm = ChatOpenAI(temperature=0, openai_api_key=secret_key)\n",
    "#defline model and temperature"
   ]
  },
  {
   "cell_type": "code",
   "execution_count": null,
   "id": "8f259588",
   "metadata": {},
   "outputs": [],
   "source": [
    "template1 = \"\"\"Here is a list of most popular headlines on reddit:\n",
    "\n",
    "{headline_content}\n",
    "\n",
    "First, select at most top 5 most impactful headlines that can \n",
    "have impact on the financial market in United States, \n",
    "but ignore headlines news about specific companies, \n",
    "unless it is banking related with very big macro impact. \n",
    "The highest impact headlines are events \n",
    "that are highly speculative and out of market expectations. \"\"\"\n"
   ]
  },
  {
   "cell_type": "code",
   "execution_count": null,
   "id": "34af348c",
   "metadata": {},
   "outputs": [],
   "source": [
    "prompt_template = PromptTemplate(input_variables=[\"headline_content\"], template=template1)\n"
   ]
  },
  {
   "cell_type": "code",
   "execution_count": null,
   "id": "5c7c6fa8",
   "metadata": {},
   "outputs": [],
   "source": [
    "chain1 = LLMChain(llm=llm, prompt=prompt_template, \n",
    "                  output_key='summarized_headline') \n",
    "#because we have a couple chain\n",
    "#chain is the model, the prompt and the output\n"
   ]
  },
  {
   "cell_type": "code",
   "execution_count": null,
   "id": "eb53a91d",
   "metadata": {},
   "outputs": [],
   "source": [
    "llm2 = ChatOpenAI(temperature=0,openai_api_key=secret_key)\n",
    "template2 = \"\"\"Rate the above headlines sentiment \n",
    "from -2 (most negative) to 2 (most positive).\n",
    "\n",
    "{summarized_headline}\n",
    "\n",
    "The final output will be a list, \n",
    "each value is the sentiment score per headline. \n",
    "For example [-1, -2, 0, 1, 2]\"\"\"\n",
    "\n",
    "\n",
    "prompt_template2 = PromptTemplate(input_variables=[\"summarized_headline\"], \n",
    "                                  template=template2)\n",
    "\n",
    "chain2 = LLMChain(llm=llm2, prompt=prompt_template2)\n",
    "\n",
    "\n"
   ]
  },
  {
   "cell_type": "code",
   "execution_count": null,
   "id": "7cf5214b",
   "metadata": {},
   "outputs": [],
   "source": [
    "overall_chain = SimpleSequentialChain(chains=[chain1, chain2], verbose=True)"
   ]
  },
  {
   "cell_type": "code",
   "execution_count": null,
   "id": "988c7823",
   "metadata": {},
   "outputs": [],
   "source": [
    "# lets use a simple example and make it work"
   ]
  },
  {
   "cell_type": "code",
   "execution_count": null,
   "id": "a9fc0d84",
   "metadata": {},
   "outputs": [],
   "source": [
    "reddit_headlines= \"\"\"\n",
    "1 : Mecca under threat: Outrage at plan to destroy the birthplace of the Prophet Mohamed and replace it with a new palace and luxury malls\n",
    "2 : Russia plans long-range bomber flights near U.S. shores\n",
    "3 : Northern European nations to boost military cooperation against Russia\n",
    "4 : Genitalia replaced with ducklings and dolphins in Turkish schoolbooks\n",
    "5 : Chinese hack U.S. Weather systems, satellite network\n",
    "6 : 2030 the \"far distant future\" says Australian Prime Minister Tony Abbott.\n",
    "7 : Opium poppy cultivation in Afghanistan has reached a record high this year, a UN report has revealed, highlighting the failure of the US-led campaign to crack down on the lucrative crop.\n",
    "8 : Protesters over missing students in Mexico burn state assembly: Demonstrators set fire to the local legislature building on Wednesday in the capital of the southwestern state of Guerrero in protests over the apparent massacre of 43 students by corrupt police and thugs from drug gangs.\n",
    "9 : Iraqi Christian fighters retake town\n",
    "10 : Israel announces it won't cooperate with UN Gaza probe\n",
    "11 : Alberta fishermen land rare fossil of never-before-seen dinosaur\n",
    "12 : Russian bomber patrols to reach Gulf of Mexico\n",
    "13 : Shell ignored internal warnings over Nigeria oil spills, documents suggest | Documents filed at London high court suggest Shell didnt act on advice to fix aged pipeline and underplayed magnitude of two spills in Nigeria in 2008\n",
    "14 : India wins U.S. support for food scheme, ends WTO blockade\n",
    "15 : Russia denies NATO accusations over troops in Ukraine\n",
    "\"\"\""
   ]
  },
  {
   "cell_type": "code",
   "execution_count": null,
   "id": "30cc454a",
   "metadata": {},
   "outputs": [],
   "source": [
    "list_of_sentiment = overall_chain.run(reddit_headlines)\n",
    "\n",
    "print (list_of_sentiment)\n"
   ]
  },
  {
   "cell_type": "markdown",
   "id": "ca0d785a",
   "metadata": {},
   "source": [
    "**now that we've learned about sequential chain, lets run it with all the headlines**"
   ]
  },
  {
   "cell_type": "code",
   "execution_count": null,
   "id": "88d104b5",
   "metadata": {},
   "outputs": [],
   "source": [
    "def extract_headline(row_data):\n",
    "    \"\"\"\n",
    "    row_data=df_sig_news.iloc[row_index, :]\n",
    "    \"\"\"\n",
    "    master_string=[str(i+1)+\" : \"+str(row_data[10:][i]) for i in range(0, len(row_data[10:]))]\n",
    "    master_string=\"\\n\".join(master_string)\n",
    "    return master_string"
   ]
  },
  {
   "cell_type": "code",
   "execution_count": null,
   "id": "4f410621",
   "metadata": {},
   "outputs": [],
   "source": [
    "import ast\n",
    "\n",
    "#first loop it as a function\n",
    "def sequential_chat_response(overall_chain, headline_content, secret_key):\n",
    "    \"\"\"return the average sentiment based on the list of headlines\"\"\"\n",
    "    list_of_sentiment = overall_chain.run(headline_content)\n",
    "    print (\"list of sentiment: \", list_of_sentiment)\n",
    "    #take the average of the sentiment\n",
    "    try:\n",
    "        list_of_sentiment=ast.literal_eval(list_of_sentiment)\n",
    "        list_of_sentiment=[int(x) for x in list_of_sentiment]\n",
    "        avg_sentiment=sum(list_of_sentiment)/len(list_of_sentiment)\n",
    "    except:\n",
    "        print (\"error message not able to find\")\n",
    "        avg_sentiment=0\n",
    "    return avg_sentiment\n"
   ]
  },
  {
   "cell_type": "code",
   "execution_count": null,
   "id": "a863bf7d",
   "metadata": {},
   "outputs": [],
   "source": [
    "# lets try sentiment round no.2\n",
    "df_master['sentiment']=0\n",
    "threshold = 4\n",
    "for i in range(0,len(df_master)):\n",
    "    if df_master.loc[i, 'significance']>threshold:\n",
    "        print (\"i is \", i)\n",
    "        master_string=extract_headline(df_master.iloc[i, 10:35])\n",
    "        #will get converted to async\n",
    "        response=sequential_chat_response(overall_chain, master_string, secret_key)\n",
    "        df_master.loc[i, 'sentiment']=response\n"
   ]
  },
  {
   "cell_type": "markdown",
   "id": "b8953512",
   "metadata": {},
   "source": [
    "**this is quite slow, so lets make it async**"
   ]
  },
  {
   "cell_type": "code",
   "execution_count": null,
   "id": "9ac37793",
   "metadata": {},
   "outputs": [],
   "source": [
    "import asyncio\n",
    "import time\n"
   ]
  },
  {
   "cell_type": "code",
   "execution_count": null,
   "id": "3b02857d",
   "metadata": {},
   "outputs": [],
   "source": [
    "#async would pause and until it finish the await function\n",
    "\n",
    "#first is to get the chat sentiment, lets convert that into async function"
   ]
  },
  {
   "cell_type": "code",
   "execution_count": null,
   "id": "32f031ef",
   "metadata": {},
   "outputs": [],
   "source": [
    "async def get_sequential_chat_response(overall_chain, headline_content, \n",
    "                                       secret_key):\n",
    "\n",
    "    list_of_sentiment = await overall_chain.arun(headline_content)\n",
    "    print (\"list of sentiment: \", list_of_sentiment)\n",
    "    #take the average of the sentiment\n",
    "    try:\n",
    "        list_of_sentiment=ast.literal_eval(list_of_sentiment)\n",
    "        list_of_sentiment=[int(x) for x in list_of_sentiment]\n",
    "        avg_sentiment=sum(list_of_sentiment)/len(list_of_sentiment)\n",
    "    except:\n",
    "        print (\"error message not able to find\")\n",
    "        avg_sentiment=999\n",
    "    return avg_sentiment\n"
   ]
  },
  {
   "cell_type": "code",
   "execution_count": null,
   "id": "5edd8637",
   "metadata": {},
   "outputs": [],
   "source": [
    "# second is to conver the loop into async task"
   ]
  },
  {
   "cell_type": "code",
   "execution_count": null,
   "id": "a9025d50",
   "metadata": {},
   "outputs": [],
   "source": [
    "#run it at your own peril, it is quite fast!\n",
    "async def run_sequential_chat_response(df_master,secret_key, threshold=4):\n",
    "    df_master['sentiment']=0\n",
    "    tasks = []\n",
    "    for i in range(0,len(df_master)):\n",
    "        if df_master.loc[i, 'significance']>threshold:\n",
    "            print (\"i is \", i)\n",
    "            master_string=extract_headline(df_master.iloc[i, 10:35]) #top 1 to top 25 columns\n",
    "            #lets setup each task \n",
    "            task = get_sequential_chat_response(overall_chain, master_string, secret_key)\n",
    "            tasks.append(task)\n",
    "\n",
    "    # lets use await to call to execute all the task all at once\n",
    "    results = await asyncio.gather(*tasks) \n",
    "    for i, result in enumerate(results):\n",
    "        df_master.loc[i, 'sentiment'] = result\n",
    "\n",
    "    return df_master\n",
    "\n",
    "# lets call the function\n",
    "df_master= await run_sequential_chat_response(df_master,secret_key)\n"
   ]
  },
  {
   "cell_type": "markdown",
   "id": "e2f6e816",
   "metadata": {},
   "source": [
    "## technical indicator "
   ]
  },
  {
   "cell_type": "code",
   "execution_count": null,
   "id": "8a0ccd5c",
   "metadata": {},
   "outputs": [],
   "source": [
    "# lets use technical indicator to enrich this dataset more"
   ]
  },
  {
   "cell_type": "code",
   "execution_count": null,
   "id": "94ecf3dd",
   "metadata": {},
   "outputs": [],
   "source": [
    "import pandas as pd\n",
    "import numpy as np\n",
    "import matplotlib.pyplot as plt\n",
    "%matplotlib inline\n",
    "import seaborn as sns"
   ]
  },
  {
   "cell_type": "code",
   "execution_count": null,
   "id": "b5dcd920",
   "metadata": {},
   "outputs": [],
   "source": [
    "df_master=pd.read_csv(\"master_sentiment.csv\",index_col=0)\n",
    "df_master.columns\n"
   ]
  },
  {
   "cell_type": "code",
   "execution_count": null,
   "id": "d657882c",
   "metadata": {},
   "outputs": [],
   "source": [
    "df_master.rename(columns={\n",
    "            'Close*': 'Close',\n",
    "            'Adj Close**': 'Adj Close'},\n",
    "          inplace=True)\n",
    "df_master=df_master.reset_index(drop=True)\n",
    "df_master"
   ]
  },
  {
   "cell_type": "code",
   "execution_count": null,
   "id": "50e30709",
   "metadata": {},
   "outputs": [],
   "source": [
    "df_master.dropna(inplace=True)\n",
    "df_master['Date']=pd.to_datetime(df_master['Date'])\n",
    "df_master"
   ]
  },
  {
   "cell_type": "code",
   "execution_count": null,
   "id": "907d8bfc",
   "metadata": {},
   "outputs": [],
   "source": [
    "# lets get rid of all the headline news\n",
    "df_master = df_master.loc[:, ~df_master.columns.str.contains('Top')]\n",
    "df_master.head()\n"
   ]
  },
  {
   "cell_type": "code",
   "execution_count": null,
   "id": "2892ffbc",
   "metadata": {},
   "outputs": [],
   "source": [
    "#ma30, ma60, ma120"
   ]
  },
  {
   "cell_type": "code",
   "execution_count": null,
   "id": "a775a2df",
   "metadata": {},
   "outputs": [],
   "source": [
    "df_master[\"30_SMA\"] = df_master[\"Adj Close\"].rolling(window = 30, min_periods = 1).mean()\n",
    "# create 50 days simple moving average column\n",
    "df_master[\"50_SMA\"] = df_master[\"Adj Close\"].rolling(window = 50, min_periods = 1).mean()\n",
    "df_master[\"200_SMA\"] = df_master[\"Adj Close\"].rolling(window = 200, min_periods = 1).mean()\n",
    "\n",
    "\n",
    "# display first few rows\n",
    "df_master.head()\n"
   ]
  },
  {
   "cell_type": "code",
   "execution_count": null,
   "id": "4a09b8f4",
   "metadata": {},
   "outputs": [],
   "source": [
    "#have a bit issue with the x-axis\n",
    "plt.plot(df_master['Date'].values, df_master['Adj Close'].values)\n",
    "plt.plot(df_master['Date'].values, df_master['30_SMA'].values, label = \"30_SMA\")\n",
    "plt.plot(df_master['Date'].values, df_master['50_SMA'].values, label = \"50_SMA\")\n",
    "plt.plot(df_master['Date'].values, df_master['200_SMA'].values, label = \"200_SMA\")\n",
    "\n",
    "plt.legend()\n",
    "plt.show()\n",
    "\n",
    "\n"
   ]
  },
  {
   "cell_type": "code",
   "execution_count": null,
   "id": "cbbd9281",
   "metadata": {},
   "outputs": [],
   "source": [
    "#Exponential moving average (EMA)"
   ]
  },
  {
   "cell_type": "markdown",
   "id": "80c50732",
   "metadata": {},
   "source": [
    "EMAToday=( ValueToday*(Constant/ (1+No. Of Days)) )+( EMAYesterday*(1-(Constant/(1+No. Of Days))) )"
   ]
  },
  {
   "cell_type": "code",
   "execution_count": null,
   "id": "04d04aef",
   "metadata": {},
   "outputs": [],
   "source": [
    "n = 200\n",
    "#decay = 2/(span+1), min required period..\n",
    "df_master['EMA'] = df_master['Adj Close'].ewm(ignore_na=False,span=n,min_periods=n,adjust=True).mean()"
   ]
  },
  {
   "cell_type": "code",
   "execution_count": null,
   "id": "b7abc3c0",
   "metadata": {},
   "outputs": [],
   "source": [
    "plt.plot(df_master['Date'].values, df_master['Adj Close'].values)\n",
    "plt.plot(df_master['Date'].values, df_master['EMA'].values, label = \"ema\")\n",
    "plt.legend()\n",
    "plt.show()\n",
    "\n"
   ]
  },
  {
   "cell_type": "code",
   "execution_count": null,
   "id": "9944b7e8",
   "metadata": {},
   "outputs": [],
   "source": [
    "#Bollinger Bands"
   ]
  },
  {
   "cell_type": "code",
   "execution_count": null,
   "id": "d06098a7",
   "metadata": {},
   "outputs": [],
   "source": [
    "n = 50\n",
    "MA = pd.Series(df_master['Adj Close'].rolling(n).mean())\n",
    "STD = pd.Series(df_master['Adj Close'].rolling(n).std())\n",
    "bb1 = MA + 2*STD\n",
    "df_master['Upper Bollinger Band'] = pd.Series(bb1)\n",
    "bb2 = MA - 2*STD\n",
    "df_master['Lower Bollinger Band'] = pd.Series(bb2)\n"
   ]
  },
  {
   "cell_type": "code",
   "execution_count": null,
   "id": "4796f4b1",
   "metadata": {},
   "outputs": [],
   "source": [
    "plt.plot(df_master['Date'].values, df_master['Adj Close'].values)\n",
    "plt.plot(df_master['Date'].values, df_master['Upper Bollinger Band'].values, label = \"upper\")\n",
    "plt.plot(df_master['Date'].values, df_master['Lower Bollinger Band'].values, label = \"lower\")\n",
    "\n",
    "plt.legend()\n",
    "plt.show()\n"
   ]
  },
  {
   "cell_type": "markdown",
   "id": "3ee93644",
   "metadata": {},
   "source": [
    "#Stochastic oscillator\n",
    " The oscillator's value ranges from zero to 100 \n",
    " and is typically displayed as two lines: the %K line and the %D line, which is a moving average of %K.\n",
    " \n",
    " When the oscillator is above 80, the asset is considered overbought. Conversely, a value below 20 indicates an oversold condition. \n",
    " \n",
    " comparing a recent closing price to its price range over a specified period\n",
    " \n",
    " To calculate the %K line, you take the difference between the most recent closing price and the lowest price of the chosen period. You then divide this difference by the difference between the highest and the lowest prices of the same period"
   ]
  },
  {
   "cell_type": "code",
   "execution_count": null,
   "id": "7db34a73",
   "metadata": {},
   "outputs": [],
   "source": [
    "n = 200\n",
    "smin = df_master['Low'].rolling(n).min()\n",
    "smax = df_master['High'].rolling(n).max()\n",
    "df_master['stoch_k'] = 100 * (df_master['Adj Close'] - smin) / (smax - smin)\n",
    "d_n = 50\n",
    "df_master['stoch_d'] = df_master['stoch_k'].rolling(d_n).mean()\n"
   ]
  },
  {
   "cell_type": "code",
   "execution_count": null,
   "id": "d7ee8e2d",
   "metadata": {},
   "outputs": [],
   "source": [
    "fig = plt.figure(figsize=(20,10))\n",
    "ax1 = plt.subplot(2, 1, 1)\n",
    "ax1.plot(df_master['Date'].values, df_master['Adj Close'])\n",
    "ax1.set_title('Closing Price')\n",
    "ax1.set_ylabel('Price')\n",
    "ax1.tick_params(axis='x', rotation=45)\n",
    "\n",
    "ax2 = plt.subplot(2, 1, 2)\n",
    "ax2.plot(df_master['Date'].values, df_master['stoch_k'], label='Stoch %K')\n",
    "ax2.plot(df_master['Date'].values, df_master['stoch_d'], label='Stoch %D')\n",
    "ax2.set_ylabel('Stochastic Oscillator')\n",
    "ax2.set_xlabel('Date')\n",
    "ax2.tick_params(axis='x', rotation=45)\n"
   ]
  },
  {
   "cell_type": "markdown",
   "id": "4c4d2eb2",
   "metadata": {},
   "source": [
    "#RSI\n",
    "The RSI is commonly used to identify overbought or oversold conditions in a traded security. An RSI above 70 suggests that an asset may be overbought, indicating it could be a good time to sell. Conversely, an RSI below 30 suggests that the asset may be oversold, which could be a buying opportunity.\n",
    "\n",
    "RS (Relative Strength) is the average of 'n' days' up closes divided by the average of 'n' days' down closes.\n",
    " "
   ]
  },
  {
   "cell_type": "code",
   "execution_count": null,
   "id": "468f1a3f",
   "metadata": {},
   "outputs": [],
   "source": [
    "n = 50 # Number of period\n",
    "change = df_master['Adj Close'].diff(1)\n",
    "df_master['Gain'] = change.mask(change<0,0)\n",
    "df_master['Loss'] = abs(change.mask(change>0,0))\n",
    "df_master['AVG_Gain'] = df_master.Gain.rolling(n).mean()\n",
    "df_master['AVG_Loss'] = df_master.Loss.rolling(n).mean()\n",
    "df_master['RS'] = df_master['AVG_Gain']/df_master['AVG_Loss']\n",
    "df_master['RSI'] = 100 - (100/(1+df_master['RS']))\n"
   ]
  },
  {
   "cell_type": "code",
   "execution_count": null,
   "id": "043cbee0",
   "metadata": {},
   "outputs": [],
   "source": [
    "#df_master axis is not there\n",
    "fig = plt.figure(figsize=(14,10))\n",
    "ax1 = plt.subplot(2, 1, 1)\n",
    "ax1.plot(df_master['Date'].values, df_master['Adj Close'])\n",
    "ax1.set_title('Closing Price')\n",
    "ax1.set_ylabel('Price')\n",
    "\n",
    "ax2 = plt.subplot(2, 1, 2)\n",
    "ax2.plot(df_master['RSI'], label='Relative Strengths Index')\n",
    "\n",
    "\n",
    "#adding the text [30] -- a bit to the left\n",
    "ax2.text(s='Overbought', x=df_master.RSI.index[30], y=70, fontsize=14)\n",
    "ax2.text(s='Oversold', x=df_master.RSI.index[30], y=30, fontsize=14)\n",
    "\n",
    "#adding horizontal axis\n",
    "ax2.axhline(y=70, color='red')\n",
    "ax2.axhline(y=30, color='red')\n",
    "ax2.grid()\n",
    "ax2.set_ylabel('RSI')\n",
    "ax2.set_xlabel('Date')\n"
   ]
  },
  {
   "cell_type": "markdown",
   "id": "4a1cb6b3",
   "metadata": {},
   "source": [
    "#on balance volumne\n",
    "\n",
    "The basic idea is that volume often precedes price movement, meaning that the level of trading activity can be an early indicator of future price trends. OBV is used to confirm price trends and identify potential reversals.\n",
    "\n",
    "The calculation of OBV is straightforward. Starting with an initial value, you add the day's trading volume when the price closes higher than the previous day's close, and subtract the volume when the price closes lower. If the close is the same as the previous day, then the OBV remains unchanged. The formula is as follows:\n",
    "\n",
    "1. If today's close > yesterday's close, then OBV = Previous OBV + Today's Volume\n",
    "2. If today's close < yesterday's close, then OBV = Previous OBV - Today's Volume\n",
    "3. If today's close = yesterday's close, then OBV = Previous OBV\n",
    "\n",
    "When the OBV is rising, it indicates that volume is stronger on up days, suggesting bullish sentiment. Conversely, a falling OBV suggests that the volume is stronger on down days, which can be an indicator of bearish sentiment.\n"
   ]
  },
  {
   "cell_type": "code",
   "execution_count": null,
   "id": "7bf40b26",
   "metadata": {},
   "outputs": [],
   "source": [
    "import numpy as np\n",
    "df_master['obv'] = (np.sign(df_master['Adj Close'].diff()) * df_master['Volume']).fillna(0).cumsum()"
   ]
  },
  {
   "cell_type": "code",
   "execution_count": null,
   "id": "911321ec",
   "metadata": {},
   "outputs": [],
   "source": [
    "fig = plt.figure(figsize=(14,10))\n",
    "ax1 = plt.subplot(2, 1, 1)\n",
    "ax1.plot(df_master['Date'].values, df_master['Adj Close'])\n",
    "ax1.set_title('Closing Price')\n",
    "ax1.set_ylabel('Price')\n",
    "\n",
    "ax2 = plt.subplot(2, 1, 2)\n",
    "ax2.plot(df_master['Date'].values, df_master['obv'], label='On Balance Volume')\n",
    "ax2.grid()\n",
    "ax2.set_ylabel('OBV')\n",
    "ax2.set_xlabel('Date')\n"
   ]
  },
  {
   "cell_type": "markdown",
   "id": "0a39af62",
   "metadata": {},
   "source": [
    "#Volume Accumulation Oscillator (VAO)\n",
    "\n",
    "It aims to identify instances where price moves are supported by volume, \n",
    "thereby offering a more comprehensive view of market sentiment.\n",
    "\n",
    "The VAO is the product of the volume times the difference of the current price and the midpoint price.\n",
    "\n"
   ]
  },
  {
   "cell_type": "code",
   "execution_count": null,
   "id": "059b41f1",
   "metadata": {},
   "outputs": [],
   "source": [
    "df_master['VAO'] = df_master['Volume'] * \\\n",
    "                   (df_master['Adj Close'] - (df_master['High']+df_master['Low'])/2)\n",
    "df_master.head()"
   ]
  },
  {
   "cell_type": "code",
   "execution_count": null,
   "id": "2f0659d4",
   "metadata": {},
   "outputs": [],
   "source": [
    "df_master['Positive'] = df_master['VAO'] > 0\n",
    "#df_master['VolumePositive'] = df_master['Open'] < df_master['Adj Close']\n"
   ]
  },
  {
   "cell_type": "code",
   "execution_count": null,
   "id": "3bcea891",
   "metadata": {},
   "outputs": [],
   "source": [
    "fig = plt.figure(figsize=(14,10))\n",
    "ax1 = plt.subplot(2, 1, 1)\n",
    "ax1.plot(df_master['Date'].values, df_master['Adj Close'].values)\n",
    "ax1.axhline(y=df_master['Adj Close'].mean(),color='r')\n",
    "ax1.grid()\n",
    "ax1.set_ylabel('Price')\n",
    "\n",
    "ax2 = plt.subplot(2, 1, 2)\n",
    "ax2.bar(df_master['Date'].values, df_master['VAO'].values, color=df_master.Positive.map({True: 'g', False: 'r'}))\n",
    "ax2.grid()\n",
    "ax2.set_ylabel('VAO')\n",
    "ax2.set_xlabel('Date')\n"
   ]
  },
  {
   "cell_type": "code",
   "execution_count": null,
   "id": "bcabbf15",
   "metadata": {},
   "outputs": [],
   "source": [
    "df_master.to_csv(\"df_master.csv\")"
   ]
  },
  {
   "cell_type": "markdown",
   "id": "35afd6e0",
   "metadata": {},
   "source": [
    "## Tree model with enriched data"
   ]
  },
  {
   "cell_type": "markdown",
   "id": "346aad7c",
   "metadata": {},
   "source": [
    "now that we have all these indicators, our plan is to use a tree model with all these technical indciators"
   ]
  },
  {
   "cell_type": "code",
   "execution_count": null,
   "id": "8fa7bb07",
   "metadata": {},
   "outputs": [],
   "source": [
    "#https://medium.com/sfu-cspmp/xgboost-a-deep-dive-into-boosting-f06c9c41349\n",
    "#very good reference"
   ]
  },
  {
   "cell_type": "code",
   "execution_count": null,
   "id": "de1d8f41",
   "metadata": {},
   "outputs": [],
   "source": [
    "import pandas as pd\n",
    "import numpy as np\n",
    "df_predictions=pd.DataFrame(columns=['Date'])\n",
    "#df_master=pd.read_csv(\"df_master.csv\", index_col=0)\n",
    "df_master.head()"
   ]
  },
  {
   "cell_type": "code",
   "execution_count": null,
   "id": "0d822b35",
   "metadata": {},
   "outputs": [],
   "source": [
    "#30_SMA, #50_SMA, #200_SMA, #EMA, #Upper Bollinger Band, #Lower Bollinger Band, #stoch_k, #stoch_d, #RSI, #obv,#VAO\n",
    "#significance #sentiment => #percentage as the y-axis"
   ]
  },
  {
   "cell_type": "code",
   "execution_count": null,
   "id": "e2e7e214",
   "metadata": {},
   "outputs": [],
   "source": [
    "df_master.head()\n",
    "df_master['percentage_yesterday']=df_master['percentage']"
   ]
  },
  {
   "cell_type": "code",
   "execution_count": null,
   "id": "bb6b8ecd",
   "metadata": {},
   "outputs": [],
   "source": [
    "# lets first shifting all the technical indicator to one lower \n",
    "# because they are calculated using the xlosing of today's data\n",
    "\n",
    "mask = ~(df_master.columns.isin(['Date','Open', 'High', 'Low', 'Close*', 'Adj Close**', 'percentage']))\n",
    "\n",
    "cols_to_shift = df_master.columns[mask]\n",
    "\n",
    "df_master[cols_to_shift] = df_master.loc[:,mask].shift(1)\n"
   ]
  },
  {
   "cell_type": "code",
   "execution_count": null,
   "id": "d16d09c4",
   "metadata": {
    "scrolled": false
   },
   "outputs": [],
   "source": [
    "df_master.head() #look at the positive columsn, we are using yesterday's information"
   ]
  },
  {
   "cell_type": "markdown",
   "id": "e391e091",
   "metadata": {},
   "source": [
    "# XGBoost Regression"
   ]
  },
  {
   "cell_type": "code",
   "execution_count": null,
   "id": "bf6d5d0f",
   "metadata": {},
   "outputs": [],
   "source": [
    "import xgboost as xgb"
   ]
  },
  {
   "cell_type": "code",
   "execution_count": null,
   "id": "ba3409ff",
   "metadata": {},
   "outputs": [],
   "source": [
    "model=xgb.XGBRegressor()"
   ]
  },
  {
   "cell_type": "code",
   "execution_count": null,
   "id": "41672d2a",
   "metadata": {},
   "outputs": [],
   "source": [
    "from sklearn.model_selection import train_test_split\n"
   ]
  },
  {
   "cell_type": "code",
   "execution_count": null,
   "id": "628ea585",
   "metadata": {},
   "outputs": [],
   "source": [
    "X=df_master[['significance', 'sentiment', '30_SMA', '50_SMA', \n",
    "             '200_SMA', 'EMA', 'Upper Bollinger Band', \n",
    "             'Lower Bollinger Band', 'stoch_k', 'stoch_d', \n",
    "             'RSI', 'obv', 'VAO', 'percentage_yesterday']]"
   ]
  },
  {
   "cell_type": "code",
   "execution_count": null,
   "id": "27d5e644",
   "metadata": {},
   "outputs": [],
   "source": [
    "y=df_master[['percentage', 'Date']]"
   ]
  },
  {
   "cell_type": "code",
   "execution_count": null,
   "id": "26b5d6cd",
   "metadata": {},
   "outputs": [],
   "source": [
    "X_train, X_test, y_train, y_test = train_test_split(X, y, test_size = 0.3, random_state = 99, shuffle=False)"
   ]
  },
  {
   "cell_type": "code",
   "execution_count": null,
   "id": "14c18718",
   "metadata": {},
   "outputs": [],
   "source": [
    "y_train"
   ]
  },
  {
   "cell_type": "code",
   "execution_count": null,
   "id": "9610d661",
   "metadata": {},
   "outputs": [],
   "source": [
    "y_test"
   ]
  },
  {
   "cell_type": "code",
   "execution_count": null,
   "id": "6615080f",
   "metadata": {},
   "outputs": [],
   "source": [
    "df_predictions['Date']=y_test['Date']"
   ]
  },
  {
   "cell_type": "code",
   "execution_count": null,
   "id": "116822ac",
   "metadata": {},
   "outputs": [],
   "source": [
    "y_test=y_test.drop(columns='Date')\n",
    "y_train=y_train.drop(columns='Date')"
   ]
  },
  {
   "cell_type": "code",
   "execution_count": null,
   "id": "7198a95f",
   "metadata": {},
   "outputs": [],
   "source": [
    "X_train.info()"
   ]
  },
  {
   "cell_type": "code",
   "execution_count": null,
   "id": "59f4be24",
   "metadata": {},
   "outputs": [],
   "source": [
    "train_matrix=xgb.DMatrix(data=X_train, label=y_train)\n",
    "test_matrix=xgb.DMatrix(data=X_test, label=y_test)"
   ]
  },
  {
   "cell_type": "code",
   "execution_count": null,
   "id": "f162e266",
   "metadata": {},
   "outputs": [],
   "source": [
    "reg_params =  [1, 10, 100]\n"
   ]
  },
  {
   "cell_type": "code",
   "execution_count": null,
   "id": "5064054e",
   "metadata": {},
   "outputs": [],
   "source": [
    "params = {\"objective\": \"reg:squarederror\"}\n"
   ]
  },
  {
   "cell_type": "code",
   "execution_count": null,
   "id": "3f726c7b",
   "metadata": {},
   "outputs": [],
   "source": [
    "# Create an empty list for storing rmses as a function of ridge regression complexity\n",
    "ridge_regression = []\n"
   ]
  },
  {
   "cell_type": "code",
   "execution_count": null,
   "id": "d14ce05f",
   "metadata": {},
   "outputs": [],
   "source": [
    "# Iterate over reg_params\n",
    "for reg in reg_params:\n",
    "\n",
    "    # Update l2 strength\n",
    "    params[\"lambda\"] = reg\n",
    "\n",
    "    # Pass this updated param dictionary into cv, as pandas returning the output as dataframe\n",
    "    cv_results_rmse = xgb.cv(dtrain=train_matrix, params=params, nfold=5,\n",
    "                             num_boost_round=5, metrics=\"rmse\", as_pandas=True, seed=123)\n",
    "\n",
    "    # Append best rmse (final round)\n",
    "    ridge_regression.append(cv_results_rmse[\"test-rmse-mean\"].tail(1).values[0])\n",
    "\n"
   ]
  },
  {
   "cell_type": "code",
   "execution_count": null,
   "id": "db25f48d",
   "metadata": {},
   "outputs": [],
   "source": [
    "ridge_regression"
   ]
  },
  {
   "cell_type": "code",
   "execution_count": null,
   "id": "54709ba7",
   "metadata": {},
   "outputs": [],
   "source": [
    "print(\"Best RMSE as a function of ridge regression (L2 regularization):\")\n",
    "print(pd.DataFrame(list(zip(reg_params, ridge_regression)), columns=[\"l2\", \"rmse\"]))\n"
   ]
  },
  {
   "cell_type": "code",
   "execution_count": null,
   "id": "45023259",
   "metadata": {},
   "outputs": [],
   "source": [
    "# gets pick the best model\n",
    "params = {\"objective\": \"reg:squarederror\", \n",
    "         \"lambda\": \"1\"}\n",
    "\n",
    "bst = xgb.train(dtrain=train_matrix, params=params, num_boost_round=50)\n",
    "\n",
    "\n"
   ]
  },
  {
   "cell_type": "code",
   "execution_count": null,
   "id": "125ee431",
   "metadata": {},
   "outputs": [],
   "source": [
    "prediction=bst.predict(test_matrix)"
   ]
  },
  {
   "cell_type": "code",
   "execution_count": null,
   "id": "63354146",
   "metadata": {},
   "outputs": [],
   "source": [
    "df_predictions['iterate_prediction']=prediction\n",
    "df_predictions.head()"
   ]
  },
  {
   "cell_type": "code",
   "execution_count": null,
   "id": "d83d95f6",
   "metadata": {},
   "outputs": [],
   "source": [
    "from sklearn.metrics import mean_squared_error\n",
    "print((mean_squared_error(prediction, y_test, squared=False)))\n"
   ]
  },
  {
   "cell_type": "code",
   "execution_count": null,
   "id": "896b6df5",
   "metadata": {},
   "outputs": [],
   "source": [
    "xgb.plot_importance(bst)\n"
   ]
  },
  {
   "cell_type": "markdown",
   "id": "5836aa57",
   "metadata": {},
   "source": [
    "## Grid Search ##"
   ]
  },
  {
   "cell_type": "code",
   "execution_count": null,
   "id": "6dc2a9ac",
   "metadata": {},
   "outputs": [],
   "source": [
    "from sklearn.model_selection import GridSearchCV\n",
    "from sklearn.model_selection import RandomizedSearchCV\n"
   ]
  },
  {
   "cell_type": "code",
   "execution_count": null,
   "id": "1cd99e03",
   "metadata": {},
   "outputs": [],
   "source": [
    "grid_search_params = {\n",
    "    'colsample_bytree': [0.3, 0.7],\n",
    "    'learning_rate': [0.01, 0.1, 0.2, 0.5], # the bigger, the more likely to overfit but faster to get the result\n",
    "    'n_estimators': [100],  # the number of total possible parameter combination crossfold (4) x 2*4*3*3= 288\n",
    "    'subsample': [0.2, 0.5, 0.8], #fraction to random sample in each training\n",
    "    'max_depth': [4, 5, 6]\n",
    "}\n"
   ]
  },
  {
   "cell_type": "code",
   "execution_count": null,
   "id": "5b8e3952",
   "metadata": {},
   "outputs": [],
   "source": [
    "xg_grid_reg = xgb.XGBRegressor(objective= \"reg:squarederror\")\n"
   ]
  },
  {
   "cell_type": "code",
   "execution_count": null,
   "id": "71add87d",
   "metadata": {},
   "outputs": [],
   "source": [
    "grid = GridSearchCV(estimator=xg_grid_reg, param_grid=grid_search_params, \n",
    "                    scoring='neg_mean_squared_error',\n",
    "                    cv=4, verbose=1)\n"
   ]
  },
  {
   "cell_type": "code",
   "execution_count": null,
   "id": "050024c2",
   "metadata": {},
   "outputs": [],
   "source": [
    "grid.fit(X_train, y_train)\n"
   ]
  },
  {
   "cell_type": "code",
   "execution_count": null,
   "id": "42ae30e0",
   "metadata": {},
   "outputs": [],
   "source": [
    "grid\n"
   ]
  },
  {
   "cell_type": "code",
   "execution_count": null,
   "id": "21a96a43",
   "metadata": {},
   "outputs": [],
   "source": [
    "print(\"Best parameters found: \", grid.best_params_)\n",
    "print(\"Lowest RMSE found: \", np.sqrt(np.abs(grid.best_score_)))\n",
    "\n"
   ]
  },
  {
   "cell_type": "code",
   "execution_count": null,
   "id": "ccc37f8e",
   "metadata": {},
   "outputs": [],
   "source": [
    "# gets pick the best model, no need for nestimators\n",
    "params = {\"objective\": \"reg:squarederror\", \n",
    "         'colsample_bytree': 0.3, \n",
    "          'learning_rate': 0.2, \n",
    "          'max_depth': 4, \n",
    "      'subsample': 0.2\n",
    "         }\n",
    "\n",
    "bst_grid = xgb.train(dtrain=train_matrix, params=params, num_boost_round=50)\n"
   ]
  },
  {
   "cell_type": "code",
   "execution_count": null,
   "id": "688ceae8",
   "metadata": {},
   "outputs": [],
   "source": [
    "grid_prediction=bst_grid.predict(test_matrix)"
   ]
  },
  {
   "cell_type": "code",
   "execution_count": null,
   "id": "82f2d72e",
   "metadata": {},
   "outputs": [],
   "source": [
    "df_predictions['grid_prediction']=grid_prediction"
   ]
  },
  {
   "cell_type": "code",
   "execution_count": null,
   "id": "278c7dc1",
   "metadata": {},
   "outputs": [],
   "source": [
    "print((mean_squared_error(grid_prediction, y_test, squared=False)))\n"
   ]
  },
  {
   "cell_type": "code",
   "execution_count": null,
   "id": "736bcd12",
   "metadata": {},
   "outputs": [],
   "source": [
    "xgb.plot_importance(bst_grid)\n"
   ]
  },
  {
   "cell_type": "markdown",
   "id": "3781ae11",
   "metadata": {},
   "source": [
    "## Random Search Parameters\n"
   ]
  },
  {
   "cell_type": "code",
   "execution_count": null,
   "id": "80323e6c",
   "metadata": {},
   "outputs": [],
   "source": [
    "params_random_search = {\n",
    "    'learning_rate': np.arange(0.01, 1.01, 0.01),\n",
    "    'n_estimators': [50, 100, 200],\n",
    "    'max_depth': range(2, 12),\n",
    "    'subsample': np.arange(0.02, 1.02, 0.02),\n",
    "    'colsample_bytree': [0.3, 0.5, 0.7,1],\n",
    "\n",
    "}\n"
   ]
  },
  {
   "cell_type": "code",
   "execution_count": null,
   "id": "5779de65",
   "metadata": {},
   "outputs": [],
   "source": [
    "xg_random_reg = xgb.XGBRegressor(objective= \"reg:squarederror\")\n"
   ]
  },
  {
   "cell_type": "code",
   "execution_count": null,
   "id": "75ca4995",
   "metadata": {},
   "outputs": [],
   "source": [
    "# It calculates the mean squared error (MSE) \n",
    "#between the predicted and actual values but returns the negative value of it\n",
    "\n",
    "#However, for error metrics like MSE, lower values are better. \n",
    "#By using the negative sign, the algorithm can still aim to maximize the metric, \n",
    "#conforming to its default behavior.\n",
    "randomized_mse = RandomizedSearchCV(param_distributions=params_random_search, estimator=xg_random_reg,\n",
    "                                scoring=\"neg_mean_squared_error\", n_iter=5, cv=4, verbose=1)\n"
   ]
  },
  {
   "cell_type": "code",
   "execution_count": null,
   "id": "482c4ea9",
   "metadata": {},
   "outputs": [],
   "source": [
    "randomized_mse.fit(X_train, y_train)\n"
   ]
  },
  {
   "cell_type": "code",
   "execution_count": null,
   "id": "691f3058",
   "metadata": {},
   "outputs": [],
   "source": [
    "print(\"Randomize Search Cross Validation\")\n",
    "print(\"Best parameters found: \", randomized_mse.best_params_)\n",
    "print(\"Lowest RMSE found: \", np.sqrt(np.abs(randomized_mse.best_score_)))\n"
   ]
  },
  {
   "cell_type": "code",
   "execution_count": null,
   "id": "003faa45",
   "metadata": {},
   "outputs": [],
   "source": [
    "# gets pick the best model, no need for nestimators\n",
    "params = {\"objective\": \"reg:squarederror\", \n",
    "         'subsample': 0.28,  'max_depth': 7, 'learning_rate': 0.53, 'colsample_bytree': 0.7\n",
    "         }\n",
    "\n",
    "#num_boost_round is a parameter in XGBoost, \n",
    "#a popular machine learning library for gradient boosting. \n",
    "#This parameter specifies the number of boosting rounds or trees to build. \n",
    "#Each round adds a new tree to the model, \n",
    "#attempting to correct errors made by the existing ensemble of trees.\n",
    "\n",
    "bst_random = xgb.train(dtrain=train_matrix, params=params, num_boost_round=50)"
   ]
  },
  {
   "cell_type": "code",
   "execution_count": null,
   "id": "308cfee9",
   "metadata": {},
   "outputs": [],
   "source": [
    "random_prediction=bst_random.predict(test_matrix)"
   ]
  },
  {
   "cell_type": "code",
   "execution_count": null,
   "id": "8a33057d",
   "metadata": {},
   "outputs": [],
   "source": [
    "df_predictions['random_prediction']=random_prediction"
   ]
  },
  {
   "cell_type": "code",
   "execution_count": null,
   "id": "5dc10a0e",
   "metadata": {
    "scrolled": true
   },
   "outputs": [],
   "source": [
    "print((mean_squared_error(random_prediction, y_test, squared=False)))\n"
   ]
  },
  {
   "cell_type": "code",
   "execution_count": null,
   "id": "230b5145",
   "metadata": {},
   "outputs": [],
   "source": [
    "xgb.plot_importance(bst_random)"
   ]
  },
  {
   "cell_type": "code",
   "execution_count": null,
   "id": "f09af571",
   "metadata": {},
   "outputs": [],
   "source": [
    "df_predictions.to_csv(\"prediction_output.csv\")\n",
    "df_predictions"
   ]
  },
  {
   "cell_type": "markdown",
   "id": "b145d397",
   "metadata": {},
   "source": [
    "# working on backtesting"
   ]
  },
  {
   "cell_type": "code",
   "execution_count": null,
   "id": "06b46a18",
   "metadata": {},
   "outputs": [],
   "source": [
    "#pip install backtesting"
   ]
  },
  {
   "cell_type": "code",
   "execution_count": null,
   "id": "4afac861",
   "metadata": {},
   "outputs": [],
   "source": [
    "from backtesting import Backtest, Strategy\n",
    "from backtesting.lib import crossover\n",
    "import pandas as pd\n",
    "import numpy as np"
   ]
  },
  {
   "cell_type": "code",
   "execution_count": null,
   "id": "cbcb1dde",
   "metadata": {},
   "outputs": [],
   "source": [
    "df_price = (\n",
    "    # Load file\n",
    "    pd.read_csv('dowj_price_indicators.csv', index_col=0)\n",
    "\n",
    "    # Rename and filter columns\n",
    "    .rename(columns={'Close*':'Close'})\n",
    "    [['Date', 'Open', 'High', 'Low', 'Close']]\n",
    "\n",
    "    # Parse dates, sort by them and set as index\n",
    "    .assign(Date = lambda df: pd.to_datetime(df.Date))\n",
    "    .sort_values('Date')\n",
    "    .set_index('Date', drop=True)\n",
    ")"
   ]
  },
  {
   "cell_type": "code",
   "execution_count": null,
   "id": "5d1572ab",
   "metadata": {},
   "outputs": [],
   "source": [
    "df_price.head()\n",
    "df_price = df_price.reset_index()\n",
    "#df_price = df_price.reset_index(drop=True)\n",
    "df_price['Date'] = pd.to_datetime(df_price['Date'])\n",
    "df_price"
   ]
  },
  {
   "cell_type": "code",
   "execution_count": null,
   "id": "f4444c5d",
   "metadata": {},
   "outputs": [],
   "source": [
    "#only out of sample\n",
    "df_predictions.head()\n",
    "df_predictions['Date']=pd.to_datetime(df_predictions['Date'])\n"
   ]
  },
  {
   "cell_type": "code",
   "execution_count": null,
   "id": "019e5ae6",
   "metadata": {},
   "outputs": [],
   "source": [
    "# Predictions includes only testing data so the resulting df has only that as well\n",
    "df_price_and_predictions = df_predictions.merge(df_price, how='left', on='Date')\n",
    "df_price_and_predictions=df_price_and_predictions.set_index('Date', drop=True)\n",
    "df_price_and_predictions"
   ]
  },
  {
   "cell_type": "code",
   "execution_count": null,
   "id": "66dfd6fb",
   "metadata": {},
   "outputs": [],
   "source": [
    "def identity(x):\n",
    "    '''Identity, this is hack because we already precomputed'''\n",
    "    return x\n",
    "\n",
    "class PredictionStrat(Strategy):\n",
    "    \"\"\"\n",
    "    Open a long position when data.prediction is >= zero (closes short position).\n",
    "    Open a short position otherwise (closes long position).\n",
    "    Requires exclusive_orders=True.\n",
    "    \"\"\"\n",
    "\n",
    "    def init(self):\n",
    "        self.prediction = self.I(identity, self.data.prediction)\n",
    "        \n",
    "    def next(self):\n",
    "        current_prediction = self.prediction[-1]\n",
    "        if current_prediction >= 0:\n",
    "            self.buy()\n",
    "        else:\n",
    "            self.sell()\n"
   ]
  },
  {
   "cell_type": "code",
   "execution_count": null,
   "id": "20aec812",
   "metadata": {},
   "outputs": [],
   "source": [
    "def backtest(df_input: pd.DataFrame, prediction_col: str) -> Backtest:\n",
    "    \"\"\"Renames prediction_col to \"prediction\" and backtests PredictionStrategy with it.\"\"\"\n",
    "\n",
    "    # Rename prediction_col to used_col in PredictionStrategy\n",
    "    _df_input = df_input.rename(columns={prediction_col:'prediction'}, inplace=False)\n",
    "\n",
    "    # Creates backtest obj, runs and plots\n",
    "    bt = Backtest(_df_input, PredictionStrat, exclusive_orders=True, cash=100_000_000, commission=0.0001)\n",
    "    print(bt.run())\n",
    "    bt.plot()\n"
   ]
  },
  {
   "cell_type": "code",
   "execution_count": null,
   "id": "35335207",
   "metadata": {},
   "outputs": [],
   "source": [
    "backtest(df_price_and_predictions, 'grid_prediction')"
   ]
  },
  {
   "cell_type": "code",
   "execution_count": null,
   "id": "36879aca",
   "metadata": {},
   "outputs": [],
   "source": [
    "backtest(df_price_and_predictions, 'random_prediction')"
   ]
  },
  {
   "cell_type": "code",
   "execution_count": null,
   "id": "c2a55fbb",
   "metadata": {},
   "outputs": [],
   "source": [
    "backtest(df_price_and_predictions, 'iterate_prediction')"
   ]
  },
  {
   "cell_type": "code",
   "execution_count": null,
   "id": "59ef7fde",
   "metadata": {},
   "outputs": [],
   "source": [
    "# lets try it with bollinger\n",
    "# we can optimize the trading strategy with backtesting"
   ]
  },
  {
   "cell_type": "code",
   "execution_count": null,
   "id": "577101f4",
   "metadata": {},
   "outputs": [],
   "source": [
    "class BollingerStrat(Strategy):\n",
    "    window_len = 50\n",
    "    n_stds = 2\n",
    "\n",
    "    def init(self, n_stds=None, window_len=None):\n",
    "        rolling = self.data.df.Close.rolling(self.window_len)\n",
    "        upper_bollinger = rolling.mean() + self.n_stds * rolling.std()\n",
    "        lower_bollinger = rolling.mean() - self.n_stds * rolling.std()\n",
    "        self.upper_bollinger = self.I(identity, upper_bollinger)\n",
    "        self.lower_bollinger = self.I(identity, lower_bollinger)\n",
    "        self.Close = self.I(identity, self.data.Close)\n",
    "\n",
    "    def next(self):\n",
    "        if self.Close >= self.upper_bollinger:\n",
    "            self.buy()\n",
    "        elif self.Close <= self.lower_bollinger:\n",
    "            self.sell()"
   ]
  },
  {
   "cell_type": "code",
   "execution_count": null,
   "id": "83f285ab",
   "metadata": {},
   "outputs": [],
   "source": [
    "bt = Backtest(df_price_and_predictions, BollingerStrat, cash=100_000_000, exclusive_orders=True)\n",
    "print(bt.run())\n",
    "bt.plot()"
   ]
  },
  {
   "cell_type": "code",
   "execution_count": null,
   "id": "f2ee9dc5",
   "metadata": {},
   "outputs": [],
   "source": [
    "# lets try to optimize for backtesting"
   ]
  },
  {
   "cell_type": "code",
   "execution_count": null,
   "id": "6514e9f2",
   "metadata": {},
   "outputs": [],
   "source": [
    "window_lens = list(range(5,105,5))\n",
    "n_stds = list(np.linspace(0.5, 4, 15))"
   ]
  },
  {
   "cell_type": "code",
   "execution_count": null,
   "id": "bbe6e9fa",
   "metadata": {},
   "outputs": [],
   "source": [
    "from backtesting.lib import plot_heatmaps\n",
    "\n",
    "bt = Backtest(df_price_and_predictions, BollingerStrat, \n",
    "              cash=100_000_000, exclusive_orders=True)\n",
    "\n",
    "results, heatmap = bt.optimize(window_len=window_lens, \n",
    "                               n_stds=n_stds, maximize='Return [%]', return_heatmap=True)"
   ]
  },
  {
   "cell_type": "code",
   "execution_count": null,
   "id": "0f3a54fe",
   "metadata": {},
   "outputs": [],
   "source": [
    "plot_heatmaps(heatmap)"
   ]
  },
  {
   "cell_type": "code",
   "execution_count": null,
   "id": "82bff0c7",
   "metadata": {},
   "outputs": [],
   "source": [
    "results._strategy"
   ]
  },
  {
   "cell_type": "code",
   "execution_count": null,
   "id": "000a8ffb",
   "metadata": {},
   "outputs": [],
   "source": [
    "class OptimizedBollingerStrat(BollingerStrat):\n",
    "    n_stds = 2\n",
    "    window_len = 10"
   ]
  },
  {
   "cell_type": "code",
   "execution_count": null,
   "id": "7b5aea3a",
   "metadata": {},
   "outputs": [],
   "source": [
    "bt = Backtest(df_price_and_predictions, OptimizedBollingerStrat, cash=100_000_000, exclusive_orders=True)\n",
    "print(bt.run())\n",
    "bt.plot()"
   ]
  },
  {
   "cell_type": "code",
   "execution_count": null,
   "id": "23b0debe",
   "metadata": {},
   "outputs": [],
   "source": [
    "# lets stack all 3 strategies together"
   ]
  },
  {
   "cell_type": "code",
   "execution_count": null,
   "id": "497ccf7d",
   "metadata": {},
   "outputs": [],
   "source": [
    "df_price_and_predictions.head()"
   ]
  },
  {
   "cell_type": "code",
   "execution_count": null,
   "id": "096a5cda",
   "metadata": {},
   "outputs": [],
   "source": [
    "def identity(x):\n",
    "    '''Identity'''\n",
    "    return x\n",
    "\n",
    "class SignalStackingStrat1(Strategy):\n",
    "    \"\"\"\n",
    "    Opens a long position whenever 2 or more prediction values\n",
    "    are positive. Close it otherwise.\n",
    "    \"\"\"\n",
    "\n",
    "    def init(self):\n",
    "        self.p1 = self.I(identity, self.data.random_prediction)\n",
    "        self.p2 = self.I(identity, self.data.iterate_prediction)\n",
    "        self.p3 = self.I(identity, self.data.grid_prediction)\n",
    "\n",
    "    def next(self):\n",
    "        # Positive signals\n",
    "        ps1 = int(self.p1[-1] >= 0)\n",
    "        ps2 = int(self.p2[-1] >= 0)\n",
    "        ps3 = int(self.p3[-1] >= 0)\n",
    "\n",
    "        if (ps1 + ps2 + ps3) >= 2:\n",
    "            self.buy()\n",
    "        else:\n",
    "            self.position.close()"
   ]
  },
  {
   "cell_type": "code",
   "execution_count": null,
   "id": "1c98ea1e",
   "metadata": {},
   "outputs": [],
   "source": [
    "# Creates backtest obj, runs and plots\n",
    "bt = Backtest(df_price_and_predictions, SignalStackingStrat1, cash=100_000_000)#, exclusive_orders=True)\n",
    "print(bt.run())\n",
    "bt.plot()"
   ]
  },
  {
   "cell_type": "code",
   "execution_count": null,
   "id": "68f97c54",
   "metadata": {},
   "outputs": [],
   "source": [
    "def identity(x):\n",
    "    '''Identity'''\n",
    "    return x\n",
    "\n",
    "class SignalStackingStrat2(Strategy):\n",
    "    \"\"\"\n",
    "    Open a long position whenever the 3 prediction values are positive.\n",
    "    Open a short position whenever the 3 prediction values are negative.\n",
    "    \"\"\"\n",
    "\n",
    "    def init(self):\n",
    "        self.p1 = self.I(identity, self.data.random_prediction)\n",
    "        self.p2 = self.I(identity, self.data.iterate_prediction)\n",
    "        self.p3 = self.I(identity, self.data.grid_prediction)\n",
    "\n",
    "    def next(self):\n",
    "        # Positive signals\n",
    "        ps1 = int(self.p1[-1] >= 0)\n",
    "        ps2 = int(self.p2[-1] >= 0)\n",
    "        ps3 = int(self.p3[-1] >= 0)\n",
    "\n",
    "        # Negative signals\n",
    "        ns1 = int(self.p1[-1] < 0)\n",
    "        ns2 = int(self.p2[-1] < 0)\n",
    "        ns3 = int(self.p3[-1] < 0)\n",
    "\n",
    "        if (ps1 + ps2 + ps3) == 3:\n",
    "            self.buy()\n",
    "        elif (ns1 + ns2 + ns3) == 3:\n",
    "            self.sell()"
   ]
  },
  {
   "cell_type": "code",
   "execution_count": null,
   "id": "e5a446ee",
   "metadata": {},
   "outputs": [],
   "source": [
    "bt = Backtest(df_price_and_predictions, SignalStackingStrat2, cash=100_000_000, exclusive_orders=True)\n",
    "print(bt.run())\n",
    "bt.plot()"
   ]
  },
  {
   "cell_type": "code",
   "execution_count": null,
   "id": "1432129f",
   "metadata": {},
   "outputs": [],
   "source": []
  }
 ],
 "metadata": {
  "kernelspec": {
   "display_name": "Python 3 (ipykernel)",
   "language": "python",
   "name": "python3"
  },
  "language_info": {
   "codemirror_mode": {
    "name": "ipython",
    "version": 3
   },
   "file_extension": ".py",
   "mimetype": "text/x-python",
   "name": "python",
   "nbconvert_exporter": "python",
   "pygments_lexer": "ipython3",
   "version": "3.8.17"
  }
 },
 "nbformat": 4,
 "nbformat_minor": 5
}
