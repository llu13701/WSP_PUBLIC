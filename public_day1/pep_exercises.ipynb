{
 "cells": [
  {
   "cell_type": "code",
   "execution_count": null,
   "id": "2d5ccb15-f797-4c7b-b914-3a893c9c5357",
   "metadata": {},
   "outputs": [],
   "source": [
    "import this"
   ]
  },
  {
   "cell_type": "markdown",
   "id": "bf67f94f-ed52-4671-bd12-c5feb9cab38b",
   "metadata": {},
   "source": [
    "1. Indentation"
   ]
  },
  {
   "cell_type": "code",
   "execution_count": null,
   "id": "06db75e6-cfaf-4669-bbc7-2fb8ec40525a",
   "metadata": {},
   "outputs": [],
   "source": [
    "# Arguments on first line forbidden when not using vertical alignment.\n",
    "foo = long_function_name(var_one, var_two,\n",
    "    var_three, var_four)\n"
   ]
  },
  {
   "cell_type": "code",
   "execution_count": 2,
   "id": "5be04e02-3081-4e67-aa5b-810c4ffaec60",
   "metadata": {},
   "outputs": [
    {
     "ename": "NameError",
     "evalue": "name 'long_function_name' is not defined",
     "output_type": "error",
     "traceback": [
      "\u001b[0;31m---------------------------------------------------------------------------\u001b[0m",
      "\u001b[0;31mNameError\u001b[0m                                 Traceback (most recent call last)",
      "Cell \u001b[0;32mIn[2], line 2\u001b[0m\n\u001b[1;32m      1\u001b[0m \u001b[38;5;66;03m#solutions:\u001b[39;00m\n\u001b[0;32m----> 2\u001b[0m foo \u001b[38;5;241m=\u001b[39m \u001b[43mlong_function_name\u001b[49m(var_one, var_two,\n\u001b[1;32m      3\u001b[0m                          var_three, var_four)\n",
      "\u001b[0;31mNameError\u001b[0m: name 'long_function_name' is not defined"
     ]
    }
   ],
   "source": [
    "#solutions:\n"
   ]
  },
  {
   "cell_type": "markdown",
   "id": "cd43e6b4-7a35-4fea-a8ce-ab2311cc4691",
   "metadata": {},
   "source": [
    "2. Indentation"
   ]
  },
  {
   "cell_type": "code",
   "execution_count": null,
   "id": "2d61a844-2216-4af6-9d1d-d47b01905cec",
   "metadata": {},
   "outputs": [],
   "source": [
    "# Further indentation required as indentation is not distinguishable.\n",
    "def long_function_name(\n",
    "    var_one, var_two, var_three,\n",
    "    var_four):\n",
    "    print(var_one)\n"
   ]
  },
  {
   "cell_type": "code",
   "execution_count": null,
   "id": "db53de07-0028-4d33-b9b5-af4383e7f84b",
   "metadata": {},
   "outputs": [],
   "source": [
    "#Solutions:\n"
   ]
  },
  {
   "cell_type": "markdown",
   "id": "feeec180-1b91-4ab0-9aa5-b54187d30aa1",
   "metadata": {},
   "source": [
    "3. Operator postions"
   ]
  },
  {
   "cell_type": "code",
   "execution_count": null,
   "id": "8e446b0c-cf20-4e50-bc0c-e0a1b32b4771",
   "metadata": {},
   "outputs": [],
   "source": [
    "# Wrong:\n",
    "# operators sit far away from their operands\n",
    "income = (gross_wages +\n",
    "          taxable_interest +\n",
    "          (dividends - qualified_dividends) -\n",
    "          ira_deduction -\n",
    "          student_loan_interest)\n"
   ]
  },
  {
   "cell_type": "code",
   "execution_count": 3,
   "id": "4b470313-06e5-4704-930d-2fb0f371e5be",
   "metadata": {},
   "outputs": [
    {
     "ename": "NameError",
     "evalue": "name 'gross_wages' is not defined",
     "output_type": "error",
     "traceback": [
      "\u001b[0;31m---------------------------------------------------------------------------\u001b[0m",
      "\u001b[0;31mNameError\u001b[0m                                 Traceback (most recent call last)",
      "Cell \u001b[0;32mIn[3], line 3\u001b[0m\n\u001b[1;32m      1\u001b[0m \u001b[38;5;66;03m# Correct:\u001b[39;00m\n\u001b[1;32m      2\u001b[0m \u001b[38;5;66;03m# easy to match operators with operands\u001b[39;00m\n\u001b[0;32m----> 3\u001b[0m income \u001b[38;5;241m=\u001b[39m (\u001b[43mgross_wages\u001b[49m\n\u001b[1;32m      4\u001b[0m           \u001b[38;5;241m+\u001b[39m taxable_interest\n\u001b[1;32m      5\u001b[0m           \u001b[38;5;241m+\u001b[39m (dividends \u001b[38;5;241m-\u001b[39m qualified_dividends)\n\u001b[1;32m      6\u001b[0m           \u001b[38;5;241m-\u001b[39m ira_deduction\n\u001b[1;32m      7\u001b[0m           \u001b[38;5;241m-\u001b[39m student_loan_interest)\n",
      "\u001b[0;31mNameError\u001b[0m: name 'gross_wages' is not defined"
     ]
    }
   ],
   "source": [
    "# Correct:\n",
    "# easy to match operators with operands\n",
    "\n"
   ]
  },
  {
   "cell_type": "markdown",
   "id": "0ebef380-6b5a-4101-90dc-0319e20a4be4",
   "metadata": {},
   "source": [
    "4. Import"
   ]
  },
  {
   "cell_type": "code",
   "execution_count": 4,
   "id": "2adbc4a1-7a0e-45c2-bc06-04042c075ba0",
   "metadata": {},
   "outputs": [],
   "source": [
    "# Wrong:\n",
    "import sys, os"
   ]
  },
  {
   "cell_type": "code",
   "execution_count": 5,
   "id": "e03c5aac-c662-4134-b85c-3e15447b019d",
   "metadata": {},
   "outputs": [],
   "source": [
    "# Correct:\n",
    "\n"
   ]
  },
  {
   "cell_type": "markdown",
   "id": "11518360-ac98-4751-bdc0-14e92da8b328",
   "metadata": {},
   "source": [
    "5. Whitepare in expression"
   ]
  },
  {
   "cell_type": "code",
   "execution_count": 6,
   "id": "4f2dab15-99c5-447a-9bbd-12c22c7696c6",
   "metadata": {},
   "outputs": [
    {
     "ename": "NameError",
     "evalue": "name 'spam' is not defined",
     "output_type": "error",
     "traceback": [
      "\u001b[0;31m---------------------------------------------------------------------------\u001b[0m",
      "\u001b[0;31mNameError\u001b[0m                                 Traceback (most recent call last)",
      "Cell \u001b[0;32mIn[6], line 2\u001b[0m\n\u001b[1;32m      1\u001b[0m \u001b[38;5;66;03m# Wrong:\u001b[39;00m\n\u001b[0;32m----> 2\u001b[0m \u001b[43mspam\u001b[49m( ham[ \u001b[38;5;241m1\u001b[39m ], { eggs: \u001b[38;5;241m2\u001b[39m } )\n",
      "\u001b[0;31mNameError\u001b[0m: name 'spam' is not defined"
     ]
    }
   ],
   "source": [
    "# Wrong:\n",
    "spam( ham[ 1 ], { eggs: 2 } )\n"
   ]
  },
  {
   "cell_type": "code",
   "execution_count": null,
   "id": "a6eab7eb-8c99-41f8-8b5f-689b3822cb33",
   "metadata": {},
   "outputs": [],
   "source": [
    "# Correct:\n"
   ]
  },
  {
   "cell_type": "code",
   "execution_count": null,
   "id": "1919717a-314e-4239-b931-0354820c02a3",
   "metadata": {},
   "outputs": [],
   "source": [
    "# Wrong:\n",
    "bar = (0, )"
   ]
  },
  {
   "cell_type": "code",
   "execution_count": null,
   "id": "9c5295ab-009d-4dcf-bfdb-ae40a4ec6eb2",
   "metadata": {},
   "outputs": [],
   "source": [
    "# Correct:\n"
   ]
  },
  {
   "cell_type": "markdown",
   "id": "ce434aaa-e84f-4c9d-8e77-00bdfbb24678",
   "metadata": {},
   "source": [
    "6. whitespace in ifs"
   ]
  },
  {
   "cell_type": "code",
   "execution_count": null,
   "id": "d62ab82a-3993-4987-95bc-bf32c350655a",
   "metadata": {},
   "outputs": [],
   "source": [
    "# Wrong:\n",
    "if x == 4 : print(x , y) ; x , y = y , x\n"
   ]
  },
  {
   "cell_type": "code",
   "execution_count": null,
   "id": "bc08b7c3-8c87-4298-83d9-36b71b75c06f",
   "metadata": {},
   "outputs": [],
   "source": [
    "# Correct:\n"
   ]
  },
  {
   "cell_type": "code",
   "execution_count": null,
   "id": "583d02f2-e7a8-40d4-9f1e-ffba2d21f447",
   "metadata": {},
   "outputs": [],
   "source": [
    "# Wrong:\n",
    "dct ['key'] = lst [index]"
   ]
  },
  {
   "cell_type": "code",
   "execution_count": null,
   "id": "9d797310-81ef-4297-ae99-0290faad155b",
   "metadata": {},
   "outputs": [],
   "source": [
    "# Correct:\n"
   ]
  },
  {
   "cell_type": "markdown",
   "id": "329fd507-da4a-48fb-a61c-4e96e056d0a0",
   "metadata": {},
   "source": [
    "7. whitespace in operator"
   ]
  },
  {
   "cell_type": "markdown",
   "id": "794c93e7-d58a-466d-9abc-842fcb2191ef",
   "metadata": {},
   "source": [
    "Avoid trailing whitespace anywhere. \n",
    "\n",
    "Because it’s usually invisible, it can be confusing: e.g. a backslash followed by a space and a newline does not count as a line continuation marker. Some editors don’t preserve it and many projects (like CPython itself) have pre-commit hooks that reject it.\n",
    "\n",
    "Always surround these binary operators with a single space on either side: assignment (=), augmented assignment (+=, -= etc.), comparisons (==, <, >, !=, <>, <=, >=, in, not in, is, is not), Booleans (and, or, not).\n",
    "\n",
    "If operators with different priorities are used, consider adding whitespace around the operators with the lowest priority(ies). Use your own judgment; however, never use more than one space, and always have the same amount of whitespace on both sides of a binary operator:\n"
   ]
  },
  {
   "cell_type": "code",
   "execution_count": null,
   "id": "5858fcb9-bc71-42fe-bf4d-256f0a929850",
   "metadata": {},
   "outputs": [],
   "source": [
    "# Wrong:\n",
    "i=i+1\n",
    "submitted +=1\n",
    "x = x * 2 - 1\n",
    "hypot2 = x * x + y * y\n",
    "c = (a + b) * (a - b)\n"
   ]
  },
  {
   "cell_type": "code",
   "execution_count": null,
   "id": "a3a58d33-ded1-473a-bb74-bdeef24e4a40",
   "metadata": {},
   "outputs": [],
   "source": []
  },
  {
   "cell_type": "markdown",
   "id": "4187caad-0f16-4845-90aa-7c657efb9a94",
   "metadata": {},
   "source": [
    "8. Function annotations should use the normal rules for colons and always have spaces around the -> arrow if present. "
   ]
  },
  {
   "cell_type": "code",
   "execution_count": null,
   "id": "71e68030-8703-4a3e-b90a-b5f8ec7c9b7e",
   "metadata": {},
   "outputs": [],
   "source": [
    "# Wrong:\n",
    "def munge(input:AnyStr): ...\n",
    "def munge()->PosInt: ..."
   ]
  },
  {
   "cell_type": "code",
   "execution_count": 1,
   "id": "8928fddb-b1ce-4fe1-bdbf-7c50bb1626b8",
   "metadata": {},
   "outputs": [
    {
     "ename": "NameError",
     "evalue": "name 'AnyStr' is not defined",
     "output_type": "error",
     "traceback": [
      "\u001b[0;31m---------------------------------------------------------------------------\u001b[0m",
      "\u001b[0;31mNameError\u001b[0m                                 Traceback (most recent call last)",
      "Cell \u001b[0;32mIn[1], line 2\u001b[0m\n\u001b[1;32m      1\u001b[0m \u001b[38;5;66;03m# Correct:\u001b[39;00m\n\u001b[0;32m----> 2\u001b[0m \u001b[38;5;28;01mdef\u001b[39;00m \u001b[38;5;21mmunge\u001b[39m(\u001b[38;5;28minput\u001b[39m: AnyStr): \u001b[38;5;241m.\u001b[39m\u001b[38;5;241m.\u001b[39m\u001b[38;5;241m.\u001b[39m\n\u001b[1;32m      3\u001b[0m \u001b[38;5;28;01mdef\u001b[39;00m \u001b[38;5;21mmunge\u001b[39m() \u001b[38;5;241m-\u001b[39m\u001b[38;5;241m>\u001b[39m PosInt: \u001b[38;5;241m.\u001b[39m\u001b[38;5;241m.\u001b[39m\u001b[38;5;241m.\u001b[39m\n",
      "\u001b[0;31mNameError\u001b[0m: name 'AnyStr' is not defined"
     ]
    }
   ],
   "source": [
    "# Correct:\n",
    "\n"
   ]
  },
  {
   "cell_type": "markdown",
   "id": "68933f44-ba96-4fb1-bf47-b17525ce73e0",
   "metadata": {},
   "source": [
    "9. Don’t use spaces around the = sign when used to indicate a keyword argument, or when used to indicate a default value for an unannotated function parameter:\n"
   ]
  },
  {
   "cell_type": "code",
   "execution_count": 1,
   "id": "8ae6c592-2eed-442a-afde-d15b5b22d262",
   "metadata": {},
   "outputs": [],
   "source": [
    "# Wrong:\n",
    "def complex(real, imag = 0.0):\n",
    "    return magic(r = real, i = imag)\n"
   ]
  },
  {
   "cell_type": "code",
   "execution_count": 2,
   "id": "29a2ae05-7d74-4ce4-92f7-4a98dc4b8f71",
   "metadata": {},
   "outputs": [],
   "source": [
    "# Correct:\n",
    "\n"
   ]
  },
  {
   "cell_type": "code",
   "execution_count": null,
   "id": "421eb082-9b4d-4a76-97d8-7f816a489605",
   "metadata": {},
   "outputs": [],
   "source": []
  }
 ],
 "metadata": {
  "kernelspec": {
   "display_name": "Python 3 (ipykernel)",
   "language": "python",
   "name": "python3"
  },
  "language_info": {
   "codemirror_mode": {
    "name": "ipython",
    "version": 3
   },
   "file_extension": ".py",
   "mimetype": "text/x-python",
   "name": "python",
   "nbconvert_exporter": "python",
   "pygments_lexer": "ipython3",
   "version": "3.8.9"
  }
 },
 "nbformat": 4,
 "nbformat_minor": 5
}
